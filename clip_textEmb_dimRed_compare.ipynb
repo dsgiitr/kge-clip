{
  "cells": [
    {
      "cell_type": "markdown",
      "source": [
        "Scores of different techniques for coyo-1k-TEXT dataset:\n",
        "\n",
        "| Comparison      | PCA          | UMAP         | t-SNE        |\n",
        "|-----------------|--------------|--------------|--------------|\n",
        "| Trustworthiness |0.0.999700|  0.999543            | 0.999591            |\n",
        "| Continuity      |0.999799          | 0.999736           | 0.999751             |\n",
        "| Cosine Similarity | 7.257074e-07         |0.150968|  0.002865            |\n",
        "| Linear Translation  | 1.319569e-25      |  22.482631           |  30.238292            |\n",
        "| Euclidean Correlation |0.999997      |  0.738646          |    0.981130          |\n",
        "| Geodesic Distance Pres       | 0.572656             | 0.982638            | 0.948360            |\n",
        "\n"
      ],
      "metadata": {
        "id": "6XQR-2VkZh3L"
      }
    },
    {
      "cell_type": "code",
      "execution_count": 22,
      "metadata": {
        "id": "LmWDje_cOo9o"
      },
      "outputs": [],
      "source": [
        "import numpy as np\n",
        "import pandas as pd\n",
        "import os\n",
        "from google.colab import files"
      ]
    },
    {
      "cell_type": "code",
      "execution_count": 2,
      "metadata": {
        "colab": {
          "base_uri": "https://localhost:8080/",
          "height": 73
        },
        "id": "wUkweW-fOuwf",
        "outputId": "85137afc-ca77-4625-bc88-853a641617b5"
      },
      "outputs": [
        {
          "output_type": "display_data",
          "data": {
            "text/plain": [
              "<IPython.core.display.HTML object>"
            ],
            "text/html": [
              "\n",
              "     <input type=\"file\" id=\"files-3a7796ae-6488-49f5-ade4-bb11cfd425e4\" name=\"files[]\" multiple disabled\n",
              "        style=\"border:none\" />\n",
              "     <output id=\"result-3a7796ae-6488-49f5-ade4-bb11cfd425e4\">\n",
              "      Upload widget is only available when the cell has been executed in the\n",
              "      current browser session. Please rerun this cell to enable.\n",
              "      </output>\n",
              "      <script>// Copyright 2017 Google LLC\n",
              "//\n",
              "// Licensed under the Apache License, Version 2.0 (the \"License\");\n",
              "// you may not use this file except in compliance with the License.\n",
              "// You may obtain a copy of the License at\n",
              "//\n",
              "//      http://www.apache.org/licenses/LICENSE-2.0\n",
              "//\n",
              "// Unless required by applicable law or agreed to in writing, software\n",
              "// distributed under the License is distributed on an \"AS IS\" BASIS,\n",
              "// WITHOUT WARRANTIES OR CONDITIONS OF ANY KIND, either express or implied.\n",
              "// See the License for the specific language governing permissions and\n",
              "// limitations under the License.\n",
              "\n",
              "/**\n",
              " * @fileoverview Helpers for google.colab Python module.\n",
              " */\n",
              "(function(scope) {\n",
              "function span(text, styleAttributes = {}) {\n",
              "  const element = document.createElement('span');\n",
              "  element.textContent = text;\n",
              "  for (const key of Object.keys(styleAttributes)) {\n",
              "    element.style[key] = styleAttributes[key];\n",
              "  }\n",
              "  return element;\n",
              "}\n",
              "\n",
              "// Max number of bytes which will be uploaded at a time.\n",
              "const MAX_PAYLOAD_SIZE = 100 * 1024;\n",
              "\n",
              "function _uploadFiles(inputId, outputId) {\n",
              "  const steps = uploadFilesStep(inputId, outputId);\n",
              "  const outputElement = document.getElementById(outputId);\n",
              "  // Cache steps on the outputElement to make it available for the next call\n",
              "  // to uploadFilesContinue from Python.\n",
              "  outputElement.steps = steps;\n",
              "\n",
              "  return _uploadFilesContinue(outputId);\n",
              "}\n",
              "\n",
              "// This is roughly an async generator (not supported in the browser yet),\n",
              "// where there are multiple asynchronous steps and the Python side is going\n",
              "// to poll for completion of each step.\n",
              "// This uses a Promise to block the python side on completion of each step,\n",
              "// then passes the result of the previous step as the input to the next step.\n",
              "function _uploadFilesContinue(outputId) {\n",
              "  const outputElement = document.getElementById(outputId);\n",
              "  const steps = outputElement.steps;\n",
              "\n",
              "  const next = steps.next(outputElement.lastPromiseValue);\n",
              "  return Promise.resolve(next.value.promise).then((value) => {\n",
              "    // Cache the last promise value to make it available to the next\n",
              "    // step of the generator.\n",
              "    outputElement.lastPromiseValue = value;\n",
              "    return next.value.response;\n",
              "  });\n",
              "}\n",
              "\n",
              "/**\n",
              " * Generator function which is called between each async step of the upload\n",
              " * process.\n",
              " * @param {string} inputId Element ID of the input file picker element.\n",
              " * @param {string} outputId Element ID of the output display.\n",
              " * @return {!Iterable<!Object>} Iterable of next steps.\n",
              " */\n",
              "function* uploadFilesStep(inputId, outputId) {\n",
              "  const inputElement = document.getElementById(inputId);\n",
              "  inputElement.disabled = false;\n",
              "\n",
              "  const outputElement = document.getElementById(outputId);\n",
              "  outputElement.innerHTML = '';\n",
              "\n",
              "  const pickedPromise = new Promise((resolve) => {\n",
              "    inputElement.addEventListener('change', (e) => {\n",
              "      resolve(e.target.files);\n",
              "    });\n",
              "  });\n",
              "\n",
              "  const cancel = document.createElement('button');\n",
              "  inputElement.parentElement.appendChild(cancel);\n",
              "  cancel.textContent = 'Cancel upload';\n",
              "  const cancelPromise = new Promise((resolve) => {\n",
              "    cancel.onclick = () => {\n",
              "      resolve(null);\n",
              "    };\n",
              "  });\n",
              "\n",
              "  // Wait for the user to pick the files.\n",
              "  const files = yield {\n",
              "    promise: Promise.race([pickedPromise, cancelPromise]),\n",
              "    response: {\n",
              "      action: 'starting',\n",
              "    }\n",
              "  };\n",
              "\n",
              "  cancel.remove();\n",
              "\n",
              "  // Disable the input element since further picks are not allowed.\n",
              "  inputElement.disabled = true;\n",
              "\n",
              "  if (!files) {\n",
              "    return {\n",
              "      response: {\n",
              "        action: 'complete',\n",
              "      }\n",
              "    };\n",
              "  }\n",
              "\n",
              "  for (const file of files) {\n",
              "    const li = document.createElement('li');\n",
              "    li.append(span(file.name, {fontWeight: 'bold'}));\n",
              "    li.append(span(\n",
              "        `(${file.type || 'n/a'}) - ${file.size} bytes, ` +\n",
              "        `last modified: ${\n",
              "            file.lastModifiedDate ? file.lastModifiedDate.toLocaleDateString() :\n",
              "                                    'n/a'} - `));\n",
              "    const percent = span('0% done');\n",
              "    li.appendChild(percent);\n",
              "\n",
              "    outputElement.appendChild(li);\n",
              "\n",
              "    const fileDataPromise = new Promise((resolve) => {\n",
              "      const reader = new FileReader();\n",
              "      reader.onload = (e) => {\n",
              "        resolve(e.target.result);\n",
              "      };\n",
              "      reader.readAsArrayBuffer(file);\n",
              "    });\n",
              "    // Wait for the data to be ready.\n",
              "    let fileData = yield {\n",
              "      promise: fileDataPromise,\n",
              "      response: {\n",
              "        action: 'continue',\n",
              "      }\n",
              "    };\n",
              "\n",
              "    // Use a chunked sending to avoid message size limits. See b/62115660.\n",
              "    let position = 0;\n",
              "    do {\n",
              "      const length = Math.min(fileData.byteLength - position, MAX_PAYLOAD_SIZE);\n",
              "      const chunk = new Uint8Array(fileData, position, length);\n",
              "      position += length;\n",
              "\n",
              "      const base64 = btoa(String.fromCharCode.apply(null, chunk));\n",
              "      yield {\n",
              "        response: {\n",
              "          action: 'append',\n",
              "          file: file.name,\n",
              "          data: base64,\n",
              "        },\n",
              "      };\n",
              "\n",
              "      let percentDone = fileData.byteLength === 0 ?\n",
              "          100 :\n",
              "          Math.round((position / fileData.byteLength) * 100);\n",
              "      percent.textContent = `${percentDone}% done`;\n",
              "\n",
              "    } while (position < fileData.byteLength);\n",
              "  }\n",
              "\n",
              "  // All done.\n",
              "  yield {\n",
              "    response: {\n",
              "      action: 'complete',\n",
              "    }\n",
              "  };\n",
              "}\n",
              "\n",
              "scope.google = scope.google || {};\n",
              "scope.google.colab = scope.google.colab || {};\n",
              "scope.google.colab._files = {\n",
              "  _uploadFiles,\n",
              "  _uploadFilesContinue,\n",
              "};\n",
              "})(self);\n",
              "</script> "
            ]
          },
          "metadata": {}
        },
        {
          "output_type": "stream",
          "name": "stdout",
          "text": [
            "Saving clip_text_embeddings.csv to clip_text_embeddings (1).csv\n"
          ]
        }
      ],
      "source": [
        "uploaded=files.upload()"
      ]
    },
    {
      "cell_type": "code",
      "execution_count": 23,
      "metadata": {
        "colab": {
          "base_uri": "https://localhost:8080/"
        },
        "id": "cHcSy9LSO91Q",
        "outputId": "1e78cc6b-9fe6-41fa-d9ba-2a9802c25414"
      },
      "outputs": [
        {
          "output_type": "stream",
          "name": "stdout",
          "text": [
            "Requirement already satisfied: umap-learn in /usr/local/lib/python3.10/dist-packages (0.5.6)\n",
            "Requirement already satisfied: numpy>=1.17 in /usr/local/lib/python3.10/dist-packages (from umap-learn) (1.25.2)\n",
            "Requirement already satisfied: scipy>=1.3.1 in /usr/local/lib/python3.10/dist-packages (from umap-learn) (1.11.4)\n",
            "Requirement already satisfied: scikit-learn>=0.22 in /usr/local/lib/python3.10/dist-packages (from umap-learn) (1.2.2)\n",
            "Requirement already satisfied: numba>=0.51.2 in /usr/local/lib/python3.10/dist-packages (from umap-learn) (0.58.1)\n",
            "Requirement already satisfied: pynndescent>=0.5 in /usr/local/lib/python3.10/dist-packages (from umap-learn) (0.5.13)\n",
            "Requirement already satisfied: tqdm in /usr/local/lib/python3.10/dist-packages (from umap-learn) (4.66.4)\n",
            "Requirement already satisfied: llvmlite<0.42,>=0.41.0dev0 in /usr/local/lib/python3.10/dist-packages (from numba>=0.51.2->umap-learn) (0.41.1)\n",
            "Requirement already satisfied: joblib>=0.11 in /usr/local/lib/python3.10/dist-packages (from pynndescent>=0.5->umap-learn) (1.4.2)\n",
            "Requirement already satisfied: threadpoolctl>=2.0.0 in /usr/local/lib/python3.10/dist-packages (from scikit-learn>=0.22->umap-learn) (3.5.0)\n"
          ]
        }
      ],
      "source": [
        "!pip install umap-learn"
      ]
    },
    {
      "cell_type": "code",
      "execution_count": 24,
      "metadata": {
        "id": "XTb2wy76Ow6-"
      },
      "outputs": [],
      "source": [
        "#importing the packages for dim red techniques\n",
        "from sklearn.decomposition import PCA\n",
        "from sklearn.manifold import TSNE\n",
        "import umap"
      ]
    },
    {
      "cell_type": "code",
      "execution_count": 25,
      "metadata": {
        "id": "olMGO6PcPNXS"
      },
      "outputs": [],
      "source": [
        "#metrics for comparing dim red techniques\n",
        "from sklearn.manifold import trustworthiness\n",
        "from sklearn.metrics import pairwise_distances"
      ]
    },
    {
      "cell_type": "code",
      "execution_count": 26,
      "metadata": {
        "id": "7Y76Q4ihPgjF"
      },
      "outputs": [],
      "source": [
        "df=pd.read_csv('clip_text_embeddings (1).csv')"
      ]
    },
    {
      "cell_type": "code",
      "execution_count": 27,
      "metadata": {
        "id": "dOrBK0KFPmRs"
      },
      "outputs": [],
      "source": [
        "X=df.drop(columns=['prompt']).values"
      ]
    },
    {
      "cell_type": "code",
      "execution_count": 28,
      "metadata": {
        "id": "vynO5A60Pr26"
      },
      "outputs": [],
      "source": [
        "#PCA\n",
        "pca=PCA(n_components=2)\n",
        "X_pca=pca.fit_transform(X)"
      ]
    },
    {
      "cell_type": "code",
      "execution_count": 29,
      "metadata": {
        "id": "3FJuJRGeSuDE"
      },
      "outputs": [],
      "source": [
        "#UMAP\n",
        "umap_model = umap.UMAP(n_neighbors=15, min_dist=0.1, n_components=2)\n",
        "X_umap = umap_model.fit_transform(X)"
      ]
    },
    {
      "cell_type": "code",
      "execution_count": 30,
      "metadata": {
        "id": "1y7L2n4WS6g1"
      },
      "outputs": [],
      "source": [
        "#t-SNE\n",
        "tsne=TSNE(n_components=2)\n",
        "X_tsne=tsne.fit_transform(X)"
      ]
    },
    {
      "cell_type": "markdown",
      "source": [
        "# Trustworthiness Formula\n",
        "\n",
        "Trustworthiness measures how well the local neighborhood structure is preserved in the reduced-dimensional space compared to the original space. It is defined as:\n",
        "\n",
        "$Tk = 1 - \\frac{2}{nk(2n-3k-1)} \\sum_{i=1}^{n} \\sum_{j \\in N_k^i} (r_{ij}^X - k)$\n",
        "\n",
        "Where:\n",
        "\n",
        "- **n** is the number of data points.\n",
        "- **k** is the number of nearest neighbors.\n",
        "- $( r_{ij}^X )$ is the rank of the $ j^{th} $ nearest neighbor of data point i in the original space.\n",
        "- $( N_k^i $) represents the set of k nearest neighbors of data point i in the original space.\n"
      ],
      "metadata": {
        "id": "SgrRcyd7jhxh"
      }
    },
    {
      "cell_type": "code",
      "execution_count": 31,
      "metadata": {
        "id": "b7goTArVS-Xm"
      },
      "outputs": [],
      "source": [
        "def compute_trustworthiness(X, X_embedded, n_neighbors=5):\n",
        "    return trustworthiness(X, X_embedded, n_neighbors=n_neighbors)"
      ]
    },
    {
      "cell_type": "markdown",
      "source": [
        "# Continuity Formula\n",
        "\n",
        "Continuity measures how well points that are close in the original space remain close in the reduced space. It is defined as:\n",
        "\n",
        "$C_k = 1 - \\frac{2}{nk(2n-3k-1)} \\sum_{i=1}^{n} \\sum_{j \\in V_i} (r_{ij}^Y - k)$\n",
        "\n",
        "Where:\n",
        "\n",
        "- **n** is the number of data points.\n",
        "- **k** is the number of nearest neighbors.\n",
        "- $ r_{ij}^Y $ is the rank of the $ j^{th}$ nearest neighbor of data point i in the reduced space.\n",
        "- V_i represents the set of data points in the original space that are nearest neighbors of data point i, but not in the reduced space.\n"
      ],
      "metadata": {
        "id": "YvVIuiiekXyp"
      }
    },
    {
      "cell_type": "code",
      "execution_count": 32,
      "metadata": {
        "id": "xgk2NjhgTBV-"
      },
      "outputs": [],
      "source": [
        "def compute_continuity(X, X_embedded, n_neighbors=5):\n",
        "    og_dist=pairwise_distances(X)\n",
        "    emb_dist=pairwise_distances(X_embedded)\n",
        "\n",
        "    n_samples = X.shape[0]\n",
        "\n",
        "    #rank of each data pt's nearest neighbour in the og space and embedded space\n",
        "    rank_og=np.argsort(np.argsort(og_dist,axis=1), axis=1)\n",
        "    rank_emb=np.argsort(np.argsort(emb_dist,axis=1), axis=1)\n",
        "\n",
        "    continuity_score = 0.0\n",
        "\n",
        "    for i in range(n_samples):\n",
        "        #indices of nearest neighbours in original space and embedded space\n",
        "        original_neighbors=np.argsort(og_dist[i])[:n_neighbors]\n",
        "        embedded_neighbors=np.argsort(emb_dist[i])[:n_neighbors]\n",
        "\n",
        "        diff=np.setdiff1d(original_neighbors, embedded_neighbors)\n",
        "\n",
        "        #updates continuity score based on rank diff\n",
        "        for j in diff:\n",
        "            continuity_score += (rank_emb[i, j] - n_neighbors)\n",
        "\n",
        "    continuity_score = 1 - (2.0 / (n_samples * n_neighbors * (2 * n_samples - 3 * n_neighbors - 1))) * continuity_score\n",
        "\n",
        "  #continuity score generated here is based on the same formula as above, except it is normalised to a range between 0 and 1.\n",
        "    return continuity_score"
      ]
    },
    {
      "cell_type": "code",
      "execution_count": 33,
      "metadata": {
        "id": "1D5qGWSKTEMZ",
        "colab": {
          "base_uri": "https://localhost:8080/"
        },
        "outputId": "6ea85735-bdee-4fe2-ef90-ebfa509e56f4"
      },
      "outputs": [
        {
          "output_type": "stream",
          "name": "stdout",
          "text": [
            "PCA Trustworthiness: 0.9997002016129032, Continuity: 0.9997993951612903\n"
          ]
        }
      ],
      "source": [
        "trust_pca = compute_trustworthiness(X, X_pca)\n",
        "cont_pca = compute_continuity(X, X_pca)\n",
        "print(f\"PCA Trustworthiness: {trust_pca}, Continuity: {cont_pca}\")"
      ]
    },
    {
      "cell_type": "code",
      "execution_count": 34,
      "metadata": {
        "id": "dUnIpx-WTW95",
        "colab": {
          "base_uri": "https://localhost:8080/"
        },
        "outputId": "615e262e-e657-47f9-8eb3-b0d6161cede8"
      },
      "outputs": [
        {
          "output_type": "stream",
          "name": "stdout",
          "text": [
            "UMAP Trustworthiness: 0.9995350806451613, Continuity: 0.9997336693548388\n"
          ]
        }
      ],
      "source": [
        "trust_umap = compute_trustworthiness(X, X_umap)\n",
        "cont_umap = compute_continuity(X, X_umap)\n",
        "print(f\"UMAP Trustworthiness: {trust_umap}, Continuity: {cont_umap}\")"
      ]
    },
    {
      "cell_type": "code",
      "execution_count": 35,
      "metadata": {
        "id": "Eq0peRvJTYia",
        "colab": {
          "base_uri": "https://localhost:8080/"
        },
        "outputId": "2a094da0-9233-425d-8bf9-4567e6b2c66c"
      },
      "outputs": [
        {
          "output_type": "stream",
          "name": "stdout",
          "text": [
            "t-SNE Trustworthiness: 0.9995895161290322, Continuity: 0.9997514112903226\n"
          ]
        }
      ],
      "source": [
        "trust_tsne = compute_trustworthiness(X, X_tsne)\n",
        "cont_tsne = compute_continuity(X, X_tsne)\n",
        "print(f\"t-SNE Trustworthiness: {trust_tsne}, Continuity: {cont_tsne}\")"
      ]
    },
    {
      "cell_type": "markdown",
      "source": [
        "# Geodesic Distance Preservation Formula\n",
        "\n",
        "Geodesic distance preservation measures how well the geodesic distances (shortest path distances along the manifold) are preserved in the reduced-dimensional space compared to the original space. It is defined as:\n",
        "\n",
        "$\n",
        "\\text{Stress} = \\sum_{i=1}^{n} \\sum_{j=1}^{n} (d_{ij} - \\hat{d}_{ij})^2\n",
        "$\n",
        "\n",
        "$\n",
        "\\text{Original Sum} = \\sum_{i=1}^{n} \\sum_{j=1}^{n} d_{ij}^2\n",
        "$\n",
        "\n",
        "$\n",
        "\\text{Geodesic Distance Preservation} = \\sqrt{\\frac{\\text{Stress}}{\\text{Original Sum}}}\n",
        "$\n",
        "\n",
        "Where:\n",
        "- n is the number of data points.\n",
        "- $d_{ij}$ is the geodesic distance (shortest path distance) between data points i and j in the original space.\n",
        "- $\\hat{d}_{ij}$ is the distance between data points i and j in the reduced-dimensional space.\n"
      ],
      "metadata": {
        "id": "LgJAeuXBlQWh"
      }
    },
    {
      "cell_type": "code",
      "source": [
        "from sklearn.manifold import Isomap\n",
        "def compute_geodesic_distances(X, n_neighbors=5):\n",
        "    isomap = Isomap(n_neighbors=n_neighbors, n_components=2)\n",
        "    isomap.fit(X)\n",
        "    geodesic_distances = isomap.dist_matrix_\n",
        "    return geodesic_distances\n",
        "\n",
        "def compute_gdp(X, X_embedded, n_neighbors=5):\n",
        "    geodesic_distances = compute_geodesic_distances(X, n_neighbors=n_neighbors)\n",
        "    embedded_distances = pairwise_distances(X_embedded)\n",
        "\n",
        "    stress = np.sum((geodesic_distances - embedded_distances)**2)\n",
        "    original_sum = np.sum(geodesic_distances**2)\n",
        "\n",
        "    return np.sqrt(stress / original_sum)\n",
        "\n",
        "gdp_pca=compute_gdp(X, X_pca)\n",
        "gdp_umap=compute_gdp(X, X_umap)\n",
        "gdp_tsne=compute_gdp(X, X_tsne)\n",
        "\n",
        "print(f\"Geodesic Distance Preservation PCA: {gdp_pca}\")\n",
        "print(f\"Geodesic Distance Preservation UMAP: {gdp_umap}\")\n",
        "print(f\"Geodesic Distance Preservation t-SNE: {gdp_tsne}\")"
      ],
      "metadata": {
        "colab": {
          "base_uri": "https://localhost:8080/"
        },
        "id": "dkvG0-dSbLUH",
        "outputId": "eae50fcb-374e-44c2-8c28-d90f044908f8"
      },
      "execution_count": 36,
      "outputs": [
        {
          "output_type": "stream",
          "name": "stdout",
          "text": [
            "Geodesic Distance Preservation PCA: 0.572656858579319\n",
            "Geodesic Distance Preservation UMAP: 0.9818469594281053\n",
            "Geodesic Distance Preservation t-SNE: 0.9482586561883276\n"
          ]
        }
      ]
    },
    {
      "cell_type": "code",
      "execution_count": 37,
      "metadata": {
        "id": "k0f-cGBfTcYd",
        "colab": {
          "base_uri": "https://localhost:8080/"
        },
        "outputId": "5f663e4c-e051-4521-e416-bb8424654dc8"
      },
      "outputs": [
        {
          "output_type": "stream",
          "name": "stdout",
          "text": [
            "Max Trustworthiness: 0.9997002016129032\n",
            "Max Continuity: 0.9997993951612903\n",
            "Best Geodesic Distance Preservation: 0.572656858579319\n"
          ]
        }
      ],
      "source": [
        "max_trustworthiness = max(trust_pca, trust_umap, trust_tsne)\n",
        "max_continuity = max(cont_pca, cont_umap, cont_tsne)\n",
        "min_gdp=min(gdp_pca, gdp_umap, gdp_tsne)\n",
        "\n",
        "print(f\"Max Trustworthiness: {max_trustworthiness}\")\n",
        "print(f\"Max Continuity: {max_continuity}\")\n",
        "print(f\"Best Geodesic Distance Preservation: {min_gdp}\")"
      ]
    },
    {
      "cell_type": "markdown",
      "source": [
        "trustworthiness for local structure preservation, **higher** the score better the preservation; ranges from 0 to 1\n",
        "\n",
        "\n",
        "continuity for global structure preservation by embeddings, **higher** the score better the preservation; ranges from 0 to 1\n",
        "\n",
        "\n",
        "gdp specifically focuses on preserving the intrinsic geometry of the manifold, **lower** the value, better the preservation."
      ],
      "metadata": {
        "id": "E6TMzHnnmcgi"
      }
    },
    {
      "cell_type": "markdown",
      "source": [
        "##EUCLIDEAN DISTANCE AND CORRELATION COEFFCIENT\n"
      ],
      "metadata": {
        "id": "sFm4jqOGjjgC"
      }
    },
    {
      "cell_type": "code",
      "source": [
        "def euclidean_dist(reduced):\n",
        "    distances = pairwise_distances(reduced)\n",
        "    avg_distance = np.mean(distances)\n",
        "    return distances, avg_distance"
      ],
      "metadata": {
        "id": "crDAw6a0fQlB"
      },
      "execution_count": 38,
      "outputs": []
    },
    {
      "cell_type": "code",
      "source": [
        "# Euclidean distance for PCA\n",
        "euclid_dist_pca, avg_euclid_dist_pca = euclidean_dist(X_pca)\n",
        "print(f\"PCA Average Euclidean Distance: {avg_euclid_dist_pca}\")\n",
        "\n",
        "# Euclidean distance for UMAP\n",
        "euclid_dist_umap, avg_euclid_dist_umap = euclidean_dist(X_umap)\n",
        "print(f\"UMAP Average Euclidean Distance: {avg_euclid_dist_umap}\")\n",
        "\n",
        "# Euclidean distance for t-SNE\n",
        "euclid_dist_tsne, avg_euclid_dist_tsne = euclidean_dist(X_tsne)\n",
        "print(f\"t-SNE Average Euclidean Distance: {avg_euclid_dist_tsne}\")"
      ],
      "metadata": {
        "colab": {
          "base_uri": "https://localhost:8080/"
        },
        "id": "uRbKhbrEfetU",
        "outputId": "784d4b49-0d46-4d6b-8dff-cdf0332044b2"
      },
      "execution_count": 39,
      "outputs": [
        {
          "output_type": "stream",
          "name": "stdout",
          "text": [
            "PCA Average Euclidean Distance: 333.3633822864294\n",
            "UMAP Average Euclidean Distance: 16.640031814575195\n",
            "t-SNE Average Euclidean Distance: 42.671104431152344\n"
          ]
        }
      ]
    },
    {
      "cell_type": "code",
      "source": [
        "def corr_euc(X):\n",
        "    euclidean_orig=pairwise_distances(X)\n",
        "    return euclidean_orig"
      ],
      "metadata": {
        "id": "mFu_MwAfi1ad"
      },
      "execution_count": 40,
      "outputs": []
    },
    {
      "cell_type": "code",
      "source": [
        "euclidean_orig=corr_euc(X)\n",
        "euclidean_pca=corr_euc(X_pca)\n",
        "euclidean_umap=corr_euc(X_umap)\n",
        "euclidean_tsne=corr_euc(X_tsne)"
      ],
      "metadata": {
        "id": "LdKjMqTMi9kE"
      },
      "execution_count": 41,
      "outputs": []
    },
    {
      "cell_type": "code",
      "source": [
        "euclidean_corr_pca = np.corrcoef(euclidean_orig.flatten(), euclidean_pca.flatten())[0, 1]\n",
        "euclidean_corr_umap = np.corrcoef(euclidean_orig.flatten(), euclidean_umap.flatten())[0, 1]\n",
        "euclidean_corr_tsne = np.corrcoef(euclidean_orig.flatten(), euclidean_tsne.flatten())[0, 1]"
      ],
      "metadata": {
        "id": "HA74z2c0jEko"
      },
      "execution_count": 42,
      "outputs": []
    },
    {
      "cell_type": "code",
      "source": [
        "print(f\"PCA Euclidean Correlation: {euclidean_corr_pca}\")\n",
        "print(f\"UMAP Euclidean Correlation: {euclidean_corr_umap}\")\n",
        "print(f\"t-SNE Euclidean Correlation: {euclidean_corr_tsne}\")\n"
      ],
      "metadata": {
        "colab": {
          "base_uri": "https://localhost:8080/"
        },
        "id": "jPg6_ctNjQ1K",
        "outputId": "7901561e-a894-4b3a-a81c-6cae8648924d"
      },
      "execution_count": 43,
      "outputs": [
        {
          "output_type": "stream",
          "name": "stdout",
          "text": [
            "PCA Euclidean Correlation: 0.9999971447413256\n",
            "UMAP Euclidean Correlation: 0.7386468046639957\n",
            "t-SNE Euclidean Correlation: 0.9811302018879273\n"
          ]
        }
      ]
    },
    {
      "cell_type": "markdown",
      "source": [
        "**Higher** the correlation, **better** the technique"
      ],
      "metadata": {
        "id": "UpexB7HLjYza"
      }
    },
    {
      "cell_type": "markdown",
      "source": [
        "##COSINE SIMILARITY"
      ],
      "metadata": {
        "id": "bCsg-orQjoKR"
      }
    },
    {
      "cell_type": "code",
      "source": [
        "from sklearn.metrics.pairwise import cosine_similarity\n",
        "from sklearn.linear_model import LinearRegression\n",
        "from sklearn.metrics import mean_squared_error"
      ],
      "metadata": {
        "id": "1KOv76-YazGw"
      },
      "execution_count": 51,
      "outputs": []
    },
    {
      "cell_type": "code",
      "source": [
        "def cosine_sim(reduced):\n",
        "    cos_sim = cosine_similarity(reduced)\n",
        "    avg_cos_sim = np.mean(cos_sim)\n",
        "    return cos_sim, avg_cos_sim"
      ],
      "metadata": {
        "id": "l5AnySVnfoDy"
      },
      "execution_count": 45,
      "outputs": []
    },
    {
      "cell_type": "code",
      "source": [
        "# Cosine similarity for PCA\n",
        "cos_sim_pca, avg_cos_sim_pca = cosine_sim(X_pca)\n",
        "print(f\"PCA Average Cosine Similarity: {avg_cos_sim_pca}\")\n",
        "\n",
        "# Cosine similarity for UMAP\n",
        "cos_sim_umap, avg_cos_sim_umap = cosine_sim(X_umap)\n",
        "print(f\"UMAP Average Cosine Similarity: {avg_cos_sim_umap}\")\n",
        "\n",
        "# Cosine similarity for t-SNE\n",
        "cos_sim_tsne, avg_cos_sim_tsne = cosine_sim(X_tsne)\n",
        "print(f\"t-SNE Average Cosine Similarity: {avg_cos_sim_tsne}\")"
      ],
      "metadata": {
        "colab": {
          "base_uri": "https://localhost:8080/"
        },
        "id": "O4KRzwyQfqsO",
        "outputId": "2589703c-0b56-4be1-c197-c6ec8ad9dabe"
      },
      "execution_count": 46,
      "outputs": [
        {
          "output_type": "stream",
          "name": "stdout",
          "text": [
            "PCA Average Cosine Similarity: 7.257074281098425e-07\n",
            "UMAP Average Cosine Similarity: 0.1509685069322586\n",
            "t-SNE Average Cosine Similarity: 0.0028652099426835775\n"
          ]
        }
      ]
    },
    {
      "cell_type": "markdown",
      "source": [
        "**Higher** the cosine similarity, **better** the preservation of angular relationships"
      ],
      "metadata": {
        "id": "xCDK-lpHgaHR"
      }
    },
    {
      "cell_type": "markdown",
      "source": [
        "##LINEAR TRANSLATION OF EMBEDDINGS"
      ],
      "metadata": {
        "id": "Vmd0E0kbjrjI"
      }
    },
    {
      "cell_type": "code",
      "source": [
        "def linear_translation(orig, reduced):\n",
        "    reg = LinearRegression()\n",
        "    reg.fit(orig, reduced)\n",
        "    predicted_reduced = reg.predict(orig)\n",
        "    mse = mean_squared_error(reduced, predicted_reduced, multioutput='raw_values')\n",
        "    average_mse = mse.mean()\n",
        "    return average_mse"
      ],
      "metadata": {
        "id": "h3BC-GNvfshP"
      },
      "execution_count": 47,
      "outputs": []
    },
    {
      "cell_type": "code",
      "source": [
        "# Linear translation for PCA\n",
        "avg_mse_pca = linear_translation(X, X_pca)\n",
        "print(f\"PCA Average MSE: {avg_mse_pca}\")\n",
        "\n",
        "# Linear translation for UMAP\n",
        "avg_mse_umap = linear_translation(X, X_umap)\n",
        "print(f\"UMAP Average MSE: {avg_mse_umap}\")\n",
        "\n",
        "# Linear translation for t-SNE\n",
        "avg_mse_tsne = linear_translation(X, X_tsne)\n",
        "print(f\"t-SNE Average MSE: {avg_mse_tsne}\")"
      ],
      "metadata": {
        "colab": {
          "base_uri": "https://localhost:8080/"
        },
        "id": "qIlYj1Rjf8mM",
        "outputId": "6bea321f-7483-4a79-8048-0c590f59e017"
      },
      "execution_count": 52,
      "outputs": [
        {
          "output_type": "stream",
          "name": "stdout",
          "text": [
            "PCA Average MSE: 1.3195699782088923e-25\n",
            "UMAP Average MSE: 22.482631519470495\n",
            "t-SNE Average MSE: 30.238292923536054\n"
          ]
        }
      ]
    },
    {
      "cell_type": "markdown",
      "source": [
        "**Lower** the MSE, **better** the mapping."
      ],
      "metadata": {
        "id": "5TYQ0ySQgkGx"
      }
    }
  ],
  "metadata": {
    "colab": {
      "provenance": []
    },
    "kernelspec": {
      "display_name": "Python 3",
      "name": "python3"
    },
    "language_info": {
      "name": "python"
    }
  },
  "nbformat": 4,
  "nbformat_minor": 0
}