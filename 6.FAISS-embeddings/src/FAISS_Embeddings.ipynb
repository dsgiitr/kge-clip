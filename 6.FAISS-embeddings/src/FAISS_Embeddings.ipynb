{
  "nbformat": 4,
  "nbformat_minor": 0,
  "metadata": {
    "colab": {
      "provenance": []
    },
    "kernelspec": {
      "name": "python3",
      "display_name": "Python 3"
    },
    "language_info": {
      "name": "python"
    }
  },
  "cells": [
    {
      "cell_type": "markdown",
      "source": [
        "## This is for storing the knowledge graph multi-dimension embeddings generated using PyKeen of text and image in FAISS index using Langchain"
      ],
      "metadata": {
        "id": "-2iCvyx_ZWWy"
      }
    },
    {
      "cell_type": "code",
      "execution_count": null,
      "metadata": {
        "id": "vgeAgfimZQ2H"
      },
      "outputs": [],
      "source": [
        "! pip install -q faiss-cpu"
      ]
    },
    {
      "cell_type": "markdown",
      "source": [
        "## Import the .csv embeddinhgs and ocnvert them into numpy array"
      ],
      "metadata": {
        "id": "j_cui0jZe8SN"
      }
    },
    {
      "cell_type": "code",
      "source": [
        "import pandas as pd\n",
        "import numpy as np\n",
        "\n",
        "embeddings_img=pd.read_csv(\"path to the data\")\n",
        "embeddings_text=pd.read_csv(\"path to the data\")\n",
        "\n",
        "embeddings_img_array=np.array(embeddings_img,dtype=np.float32) # load the image embedding\n",
        "embeddings_text_array=np.array(embeddings_text,dtype=np.float32) #load the text embedding"
      ],
      "metadata": {
        "id": "I5wHK41JfN2g"
      },
      "execution_count": null,
      "outputs": []
    },
    {
      "cell_type": "code",
      "source": [
        "import faiss\n",
        "\n",
        "dimension=512\n",
        "index=faiss.IndexFlatL2(dimension)\n",
        "\n",
        "index.add(embeddings_img_array) #add the img embedding in faiss\n",
        "index.add(embeddings_text_array) # add text embedding in faiss\n",
        "\n",
        "faiss.write_index(index, 'faiss_traditional_vector_embedding.index')"
      ],
      "metadata": {
        "id": "G3Ax-irwe003"
      },
      "execution_count": null,
      "outputs": []
    },
    {
      "cell_type": "markdown",
      "source": [
        "## Loading index for similarity search query"
      ],
      "metadata": {
        "id": "nrD4k49qlq9U"
      }
    },
    {
      "cell_type": "code",
      "source": [
        "index= faiss.read_index(\"/content/faiss_traditional_vector_embedding.index\")\n",
        "index\n",
        "query_embedding=np.random.rand(1,512).astype(np.float32)\n",
        "query_embedding\n",
        "distance,indeces= index.search(query_embedding,k=5)\n",
        "distance"
      ],
      "metadata": {
        "id": "snYK0sVeltr9"
      },
      "execution_count": null,
      "outputs": []
    }
  ]
}