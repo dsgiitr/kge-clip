{
  "nbformat": 4,
  "nbformat_minor": 0,
  "metadata": {
    "colab": {
      "provenance": []
    },
    "kernelspec": {
      "name": "python3",
      "display_name": "Python 3"
    },
    "language_info": {
      "name": "python"
    }
  },
  "cells": [
    {
      "cell_type": "markdown",
      "source": [
        "## This is for storing the knowledge graph multi-dimension embeddings generated using PyKeen of text and image in FAISS index using Langchain"
      ],
      "metadata": {
        "id": "-2iCvyx_ZWWy"
      }
    },
    {
      "cell_type": "code",
      "execution_count": 1,
      "metadata": {
        "id": "vgeAgfimZQ2H",
        "colab": {
          "base_uri": "https://localhost:8080/"
        },
        "outputId": "f052896c-1bef-4de9-e2c0-4e7ba6c25530"
      },
      "outputs": [
        {
          "output_type": "stream",
          "name": "stdout",
          "text": [
            "\u001b[2K   \u001b[90m━━━━━━━━━━━━━━━━━━━━━━━━━━━━━━━━━━━━━━━━\u001b[0m \u001b[32m27.0/27.0 MB\u001b[0m \u001b[31m48.0 MB/s\u001b[0m eta \u001b[36m0:00:00\u001b[0m\n",
            "\u001b[?25h"
          ]
        }
      ],
      "source": [
        "! pip install -q faiss-cpu"
      ]
    },
    {
      "cell_type": "markdown",
      "source": [
        "## Import the .csv embeddinhgs and ocnvert them into numpy array"
      ],
      "metadata": {
        "id": "j_cui0jZe8SN"
      }
    },
    {
      "cell_type": "code",
      "source": [
        "import pandas as pd\n",
        "import numpy as np\n",
        "\n",
        "text_entity_embedding_path=\"/content/text_entity_embeddings512.csv\"\n",
        "text_relation_embedding_path=\"/content/text_relation_embeddings512.csv\"\n",
        "img_entity_embedding_path=\"/content/image_entity_embeddings512.csv\"\n",
        "img_relation_embedding_path=\"/content/image_relation_embeddings512.csv\"\n",
        "\n",
        "embeddings_img_relation=pd.read_csv(img_relation_embedding_path)\n",
        "embeddings_img_entity=pd.read_csv(img_entity_embedding_path)\n",
        "embeddings_img=pd.concat([embeddings_img_relation,embeddings_img_entity],axis=0)\n",
        "\n",
        "embeddings_text_relation=pd.read_csv(text_relation_embedding_path)\n",
        "embeddings_text_entity=pd.read_csv(text_entity_embedding_path)\n",
        "embeddings_text=pd.concat([embeddings_text_relation,embeddings_text_entity],axis=0)\n",
        "\n",
        "#embeddings_img.drop(columns=['url','text','Unnamed: 0'],inplace=True)\n",
        "#embeddings_text.drop(columns=['prompt',\"Unnamed: 0\"],inplace=True)\n",
        "\n",
        "#embeddings_img=np.load(\"/content/image_embeddings_train1k.npy\")\n",
        "\n",
        "embeddings_img_array=np.array(embeddings_img,dtype=np.float32) # load the image embedding\n",
        "embeddings_text_array=np.array(embeddings_text,dtype=np.float32) #load the text embedding"
      ],
      "metadata": {
        "id": "I5wHK41JfN2g"
      },
      "execution_count": 22,
      "outputs": []
    },
    {
      "cell_type": "markdown",
      "source": [
        "### Storing combined image and text index"
      ],
      "metadata": {
        "id": "1zT6HyasKAP5"
      }
    },
    {
      "cell_type": "code",
      "source": [
        "import faiss\n",
        "\n",
        "dimension=512\n",
        "index=faiss.IndexFlatL2(dimension)\n",
        "\n",
        "index.add(embeddings_img_array) #add the img embedding in faiss\n",
        "index.add(embeddings_text_array) # add text embedding in faiss\n",
        "\n",
        "faiss.write_index(index, 'faiss_CLIP_txtimg_KGE.index')"
      ],
      "metadata": {
        "id": "G3Ax-irwe003"
      },
      "execution_count": 24,
      "outputs": []
    },
    {
      "cell_type": "markdown",
      "source": [
        "### Storing individual image and text index"
      ],
      "metadata": {
        "id": "I06FHNP7J9S5"
      }
    },
    {
      "cell_type": "code",
      "source": [
        "index_img=faiss.IndexFlatL2(dimension)\n",
        "index_img.add(embeddings_img_array)\n",
        "faiss.write_index(index_img, 'faiss_CLIP_img_KGE.index')\n",
        "\n",
        "index_text=faiss.IndexFlatL2(dimension)\n",
        "index_text.add(embeddings_text_array)\n",
        "faiss.write_index(index_text, 'faiss_CLIP_text_KGE.index')"
      ],
      "metadata": {
        "id": "hUC8bK5oJ80h"
      },
      "execution_count": 25,
      "outputs": []
    },
    {
      "cell_type": "markdown",
      "source": [
        "## Loading index for similarity search query"
      ],
      "metadata": {
        "id": "nrD4k49qlq9U"
      }
    },
    {
      "cell_type": "code",
      "source": [
        "index= faiss.read_index(\"/content/faiss_traditional_vector_embedding.index\")\n",
        "index\n",
        "query_embedding=np.random.rand(1,512).astype(np.float32)\n",
        "query_embedding\n",
        "distance,indeces= index.search(query_embedding,k=5)\n",
        "distance"
      ],
      "metadata": {
        "id": "snYK0sVeltr9"
      },
      "execution_count": null,
      "outputs": []
    }
  ]
}